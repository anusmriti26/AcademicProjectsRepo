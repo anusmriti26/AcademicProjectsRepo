{
 "cells": [
  {
   "cell_type": "markdown",
   "metadata": {
    "id": "R3U07OlStyrc"
   },
   "source": [
    "Mount the google drive"
   ]
  },
  {
   "cell_type": "code",
   "execution_count": 1,
   "metadata": {
    "colab": {
     "base_uri": "https://localhost:8080/"
    },
    "id": "_O-kPcUotv75",
    "outputId": "9bfa5b71-4815-4d9e-875c-04b6ed5ad4e2"
   },
   "outputs": [
    {
     "name": "stdout",
     "output_type": "stream",
     "text": [
      "Mounted at /content/drive/\n"
     ]
    }
   ],
   "source": [
    "from google.colab import drive\n",
    "drive.mount('/content/drive/')"
   ]
  },
  {
   "cell_type": "markdown",
   "metadata": {
    "id": "dMkVlwBHt5wz"
   },
   "source": [
    "Install Neccessary libraries"
   ]
  },
  {
   "cell_type": "code",
   "execution_count": 2,
   "metadata": {
    "colab": {
     "base_uri": "https://localhost:8080/"
    },
    "id": "seot1LX1qgc7",
    "outputId": "ccff4672-4ee9-4101-e6dc-caa4a84d46da"
   },
   "outputs": [
    {
     "name": "stdout",
     "output_type": "stream",
     "text": [
      "\u001b[?25l     \u001b[90m━━━━━━━━━━━━━━━━━━━━━━━━━━━━━━━━━━━━━━━━\u001b[0m \u001b[32m0.0/867.6 kB\u001b[0m \u001b[31m?\u001b[0m eta \u001b[36m-:--:--\u001b[0m\r",
      "\u001b[2K     \u001b[91m━━━━━━━━━━━━━━━━━━━━━━━━━\u001b[0m\u001b[91m╸\u001b[0m\u001b[90m━━━━━━━━━━━━━━\u001b[0m \u001b[32m563.2/867.6 kB\u001b[0m \u001b[31m16.8 MB/s\u001b[0m eta \u001b[36m0:00:01\u001b[0m\r",
      "\u001b[2K     \u001b[90m━━━━━━━━━━━━━━━━━━━━━━━━━━━━━━━━━━━━━━━━\u001b[0m \u001b[32m867.6/867.6 kB\u001b[0m \u001b[31m18.3 MB/s\u001b[0m eta \u001b[36m0:00:00\u001b[0m\n",
      "\u001b[2K     \u001b[90m━━━━━━━━━━━━━━━━━━━━━━━━━━━━━━━━━━━━━━━━\u001b[0m \u001b[32m312.9/312.9 kB\u001b[0m \u001b[31m33.1 MB/s\u001b[0m eta \u001b[36m0:00:00\u001b[0m\n",
      "\u001b[2K     \u001b[90m━━━━━━━━━━━━━━━━━━━━━━━━━━━━━━━━━━━━━━━━\u001b[0m \u001b[32m1.8/1.8 MB\u001b[0m \u001b[31m76.0 MB/s\u001b[0m eta \u001b[36m0:00:00\u001b[0m\n",
      "\u001b[2K     \u001b[90m━━━━━━━━━━━━━━━━━━━━━━━━━━━━━━━━━━━━━━━━\u001b[0m \u001b[32m85.5/85.5 MB\u001b[0m \u001b[31m20.8 MB/s\u001b[0m eta \u001b[36m0:00:00\u001b[0m\n",
      "\u001b[2K     \u001b[90m━━━━━━━━━━━━━━━━━━━━━━━━━━━━━━━━━━━━━━━━\u001b[0m \u001b[32m290.4/290.4 kB\u001b[0m \u001b[31m33.9 MB/s\u001b[0m eta \u001b[36m0:00:00\u001b[0m\n",
      "\u001b[2K     \u001b[90m━━━━━━━━━━━━━━━━━━━━━━━━━━━━━━━━━━━━━━━━\u001b[0m \u001b[32m2.0/2.0 MB\u001b[0m \u001b[31m86.4 MB/s\u001b[0m eta \u001b[36m0:00:00\u001b[0m\n",
      "\u001b[2K     \u001b[90m━━━━━━━━━━━━━━━━━━━━━━━━━━━━━━━━━━━━━━━━\u001b[0m \u001b[32m302.8/302.8 kB\u001b[0m \u001b[31m36.8 MB/s\u001b[0m eta \u001b[36m0:00:00\u001b[0m\n",
      "\u001b[2K     \u001b[90m━━━━━━━━━━━━━━━━━━━━━━━━━━━━━━━━━━━━━━━━\u001b[0m \u001b[32m116.7/116.7 kB\u001b[0m \u001b[31m17.6 MB/s\u001b[0m eta \u001b[36m0:00:00\u001b[0m\n",
      "\u001b[2K     \u001b[90m━━━━━━━━━━━━━━━━━━━━━━━━━━━━━━━━━━━━━━━━\u001b[0m \u001b[32m75.6/75.6 kB\u001b[0m \u001b[31m11.3 MB/s\u001b[0m eta \u001b[36m0:00:00\u001b[0m\n",
      "\u001b[2K     \u001b[90m━━━━━━━━━━━━━━━━━━━━━━━━━━━━━━━━━━━━━━━━\u001b[0m \u001b[32m49.3/49.3 kB\u001b[0m \u001b[31m7.0 MB/s\u001b[0m eta \u001b[36m0:00:00\u001b[0m\n",
      "\u001b[2K     \u001b[90m━━━━━━━━━━━━━━━━━━━━━━━━━━━━━━━━━━━━━━━━\u001b[0m \u001b[32m77.9/77.9 kB\u001b[0m \u001b[31m12.1 MB/s\u001b[0m eta \u001b[36m0:00:00\u001b[0m\n",
      "\u001b[2K     \u001b[90m━━━━━━━━━━━━━━━━━━━━━━━━━━━━━━━━━━━━━━━━\u001b[0m \u001b[32m58.3/58.3 kB\u001b[0m \u001b[31m9.0 MB/s\u001b[0m eta \u001b[36m0:00:00\u001b[0m\n",
      "\u001b[2K     \u001b[90m━━━━━━━━━━━━━━━━━━━━━━━━━━━━━━━━━━━━━━━━\u001b[0m \u001b[32m53.0/53.0 kB\u001b[0m \u001b[31m7.6 MB/s\u001b[0m eta \u001b[36m0:00:00\u001b[0m\n",
      "\u001b[2K     \u001b[90m━━━━━━━━━━━━━━━━━━━━━━━━━━━━━━━━━━━━━━━━\u001b[0m \u001b[32m142.5/142.5 kB\u001b[0m \u001b[31m18.9 MB/s\u001b[0m eta \u001b[36m0:00:00\u001b[0m\n",
      "\u001b[?25h"
     ]
    }
   ],
   "source": [
    "!pip -q install langchain openai tiktoken faiss-gpu pypdf rouge"
   ]
  },
  {
   "cell_type": "code",
   "execution_count": 3,
   "metadata": {
    "colab": {
     "base_uri": "https://localhost:8080/"
    },
    "id": "0aOIf6ptqgiG",
    "outputId": "838d2f03-e17e-4015-c518-f5bfd0194a86"
   },
   "outputs": [
    {
     "name": "stdout",
     "output_type": "stream",
     "text": [
      "Collecting openai==0.28\n",
      "  Downloading openai-0.28.0-py3-none-any.whl (76 kB)\n",
      "\u001b[?25l     \u001b[90m━━━━━━━━━━━━━━━━━━━━━━━━━━━━━━━━━━━━━━━━\u001b[0m \u001b[32m0.0/76.5 kB\u001b[0m \u001b[31m?\u001b[0m eta \u001b[36m-:--:--\u001b[0m\r",
      "\u001b[2K     \u001b[90m━━━━━━━━━━━━━━━━━━━━━━━━━━━━━━━━━━━━━━━━\u001b[0m \u001b[32m76.5/76.5 kB\u001b[0m \u001b[31m3.0 MB/s\u001b[0m eta \u001b[36m0:00:00\u001b[0m\n",
      "\u001b[?25hRequirement already satisfied: requests>=2.20 in /usr/local/lib/python3.10/dist-packages (from openai==0.28) (2.31.0)\n",
      "Requirement already satisfied: tqdm in /usr/local/lib/python3.10/dist-packages (from openai==0.28) (4.66.2)\n",
      "Requirement already satisfied: aiohttp in /usr/local/lib/python3.10/dist-packages (from openai==0.28) (3.9.5)\n",
      "Requirement already satisfied: charset-normalizer<4,>=2 in /usr/local/lib/python3.10/dist-packages (from requests>=2.20->openai==0.28) (3.3.2)\n",
      "Requirement already satisfied: idna<4,>=2.5 in /usr/local/lib/python3.10/dist-packages (from requests>=2.20->openai==0.28) (3.7)\n",
      "Requirement already satisfied: urllib3<3,>=1.21.1 in /usr/local/lib/python3.10/dist-packages (from requests>=2.20->openai==0.28) (2.0.7)\n",
      "Requirement already satisfied: certifi>=2017.4.17 in /usr/local/lib/python3.10/dist-packages (from requests>=2.20->openai==0.28) (2024.2.2)\n",
      "Requirement already satisfied: aiosignal>=1.1.2 in /usr/local/lib/python3.10/dist-packages (from aiohttp->openai==0.28) (1.3.1)\n",
      "Requirement already satisfied: attrs>=17.3.0 in /usr/local/lib/python3.10/dist-packages (from aiohttp->openai==0.28) (23.2.0)\n",
      "Requirement already satisfied: frozenlist>=1.1.1 in /usr/local/lib/python3.10/dist-packages (from aiohttp->openai==0.28) (1.4.1)\n",
      "Requirement already satisfied: multidict<7.0,>=4.5 in /usr/local/lib/python3.10/dist-packages (from aiohttp->openai==0.28) (6.0.5)\n",
      "Requirement already satisfied: yarl<2.0,>=1.0 in /usr/local/lib/python3.10/dist-packages (from aiohttp->openai==0.28) (1.9.4)\n",
      "Requirement already satisfied: async-timeout<5.0,>=4.0 in /usr/local/lib/python3.10/dist-packages (from aiohttp->openai==0.28) (4.0.3)\n",
      "Installing collected packages: openai\n",
      "  Attempting uninstall: openai\n",
      "    Found existing installation: openai 1.25.2\n",
      "    Uninstalling openai-1.25.2:\n",
      "      Successfully uninstalled openai-1.25.2\n",
      "Successfully installed openai-0.28.0\n"
     ]
    }
   ],
   "source": [
    "!pip install openai==0.28"
   ]
  },
  {
   "cell_type": "markdown",
   "metadata": {
    "id": "zsrJRcbZuMhH"
   },
   "source": [
    "Import the necessary libraries"
   ]
  },
  {
   "cell_type": "code",
   "execution_count": 4,
   "metadata": {
    "id": "ncWrUUbWqglo"
   },
   "outputs": [],
   "source": [
    "from langchain.chains import RetrievalQA\n",
    "from langchain.llms import OpenAI\n",
    "from langchain.document_loaders import PyPDFLoader\n",
    "from langchain.vectorstores import FAISS\n",
    "from langchain.embeddings import OpenAIEmbeddings\n",
    "from langchain.text_splitter import CharacterTextSplitter\n",
    "from langchain.memory import ConversationBufferMemory\n",
    "from langchain.chains import ConversationalRetrievalChain"
   ]
  },
  {
   "cell_type": "code",
   "execution_count": 5,
   "metadata": {
    "id": "b7_eMv--qgpI"
   },
   "outputs": [],
   "source": [
    "# Load and process the PDF document\n",
    "pdf_path = '/content/drive/MyDrive/pdfs/1Q23-EPR-with-Tables-FINAL.pdf'\n",
    "loader = PyPDFLoader(pdf_path)\n",
    "documents = loader.load()"
   ]
  },
  {
   "cell_type": "code",
   "execution_count": 6,
   "metadata": {
    "id": "Uqp12Qq2UA9f"
   },
   "outputs": [],
   "source": [
    "import os\n",
    "\n",
    "os.environ[\"OPENAI_API_KEY\"] = \" \""
   ]
  },
  {
   "cell_type": "code",
   "execution_count": 8,
   "metadata": {
    "id": "R9l9l5qyqgsl"
   },
   "outputs": [],
   "source": [
    "# Split the text into chunks\n",
    "text_splitter = CharacterTextSplitter(chunk_size=1000, chunk_overlap=200)\n",
    "texts = text_splitter.split_documents(documents)"
   ]
  },
  {
   "cell_type": "code",
   "execution_count": 9,
   "metadata": {
    "colab": {
     "base_uri": "https://localhost:8080/"
    },
    "id": "aV1aEKa5rEm2",
    "outputId": "cfdbadf0-bdc4-4ea1-d1a8-2b52da36687a"
   },
   "outputs": [
    {
     "name": "stderr",
     "output_type": "stream",
     "text": [
      "/usr/local/lib/python3.10/dist-packages/langchain_core/_api/deprecation.py:119: LangChainDeprecationWarning: The class `OpenAIEmbeddings` was deprecated in LangChain 0.0.9 and will be removed in 0.2.0. An updated version of the class exists in the langchain-openai package and should be used instead. To use it run `pip install -U langchain-openai` and import as `from langchain_openai import OpenAIEmbeddings`.\n",
      "  warn_deprecated(\n"
     ]
    }
   ],
   "source": [
    "# Create vector store\n",
    "embeddings = OpenAIEmbeddings(openai_api_key=OPENAI_API_KEY )\n",
    "vectorstore = FAISS.from_documents(texts, embeddings)"
   ]
  },
  {
   "cell_type": "code",
   "execution_count": 10,
   "metadata": {
    "colab": {
     "base_uri": "https://localhost:8080/"
    },
    "id": "Fxk7X-6wrEpi",
    "outputId": "e59eacfd-a6cb-4142-85f9-6d1b23ed82ac"
   },
   "outputs": [
    {
     "name": "stderr",
     "output_type": "stream",
     "text": [
      "/usr/local/lib/python3.10/dist-packages/langchain_community/llms/openai.py:249: UserWarning: You are trying to use a chat model. This way of initializing it is no longer supported. Instead, please use: `from langchain_community.chat_models import ChatOpenAI`\n",
      "  warnings.warn(\n",
      "/usr/local/lib/python3.10/dist-packages/langchain_community/llms/openai.py:1070: UserWarning: You are trying to use a chat model. This way of initializing it is no longer supported. Instead, please use: `from langchain_community.chat_models import ChatOpenAI`\n",
      "  warnings.warn(\n"
     ]
    }
   ],
   "source": [
    "# Create conversation chain\n",
    "llm = OpenAI(temperature=0.1, model_name=\"gpt-4\")\n",
    "memory = ConversationBufferMemory(memory_key='chat_history', return_messages=True)\n",
    "conversation_chain = ConversationalRetrievalChain.from_llm(\n",
    "    llm=llm,\n",
    "    chain_type=\"stuff\",\n",
    "    retriever=vectorstore.as_retriever(),\n",
    "    memory=memory\n",
    ")"
   ]
  },
  {
   "cell_type": "code",
   "execution_count": 11,
   "metadata": {
    "colab": {
     "base_uri": "https://localhost:8080/"
    },
    "id": "B3aDKtVRrEyH",
    "outputId": "4bb46f2b-ca15-4250-ef44-88b45722115f"
   },
   "outputs": [
    {
     "name": "stdout",
     "output_type": "stream",
     "text": [
      "User:  A company produces 500 tons of plastic packaging annually and is subject to an Extended Producer Responsibility (EPR) scheme with a recovery target of 80%. How many tons of plastic packaging should the company aim to recover each year to meet the EPR requirement?\n"
     ]
    },
    {
     "name": "stderr",
     "output_type": "stream",
     "text": [
      "/usr/local/lib/python3.10/dist-packages/langchain_core/_api/deprecation.py:119: LangChainDeprecationWarning: The method `Chain.__call__` was deprecated in langchain 0.1.0 and will be removed in 0.2.0. Use invoke instead.\n",
      "  warn_deprecated(\n"
     ]
    },
    {
     "name": "stdout",
     "output_type": "stream",
     "text": [
      "Please provide the reference answer: To meet the Extended Producer Responsibility (EPR) scheme requirement of an 80% recovery target, the company should aim to recover: Required Recovery = 500 tons * 80% = 400 tons. Thus, the company should aim to recover 400 tons of plastic packaging each year to meet the EPR requirement.\n",
      "Assistant: The company should aim to recover 400 tons of plastic packaging each year to meet the EPR requirement.\n",
      "Reference: To meet the Extended Producer Responsibility (EPR) scheme requirement of an 80% recovery target, the company should aim to recover: Required Recovery = 500 tons * 80% = 400 tons. Thus, the company should aim to recover 400 tons of plastic packaging each year to meet the EPR requirement.\n",
      "ROUGE-1 Score: 0.6399999955120002\n",
      "ROUGE-2 Score: 0.5423728772536627\n",
      "ROUGE-L Score: 0.6399999955120002\n",
      "\n",
      "User: What is the report quarter and when did it end?\n",
      "Please provide the reference answer: The reported quarter was the first quarter of fiscal 2023. It ended on April 29, 2023\n",
      "Assistant: The reported quarter ended on April 29, 2023. It is the first quarter of the fiscal year 2023 for Gap Inc.\n",
      "Reference: The reported quarter was the first quarter of fiscal 2023. It ended on April 29, 2023\n",
      "ROUGE-1 Score: 0.8124999950781252\n",
      "ROUGE-2 Score: 0.5714285665306124\n",
      "ROUGE-L Score: 0.8124999950781252\n",
      "\n",
      "User: What are the results for the reporting quarter? Please describe in the following order using bullet points - revenue, gross margin, opex, op margin, net income, and EPS. Include both GAAP and non-GAAP numbers. Please also include quarter-over-quarter changes?\n",
      "Please provide the reference answer: Here are the results for the first quarter of fiscal year 2023 for Gap Inc., including both GAAP and non-GAAP numbers, along with the changes from the previous quarter:  Revenue (Net Sales) GAAP: $3.28 billion, down 6% compared to last year.  - Gross Margin GAAP: 37.1% Non-GAAP: 37.1%, increased by 570 basis points compared to the previous year.  - Operating Expenses: The GAAP operating were $1.224 billion, which is 37.4% of net sales.  - Non-GAAP: $1.200 billion, which is 36.6% of net sales. Operating Margin (Op Margin) GAAP: -0.3% Non-GAAP: 0.5% Net Income GAAP: Net loss of $18 million Non-GAAP: Net income of $3 million Earnings Per Share (EPS) GAAP: Loss per share of $0.05 Non-GAAP: Earnings per share of $0.01 These results highlight a mixed financial performance with significant improvements in gross margins on a non-GAAP basis and a reduction in operating expenses as a percentage of net sales, despite a net loss reported on a GAAP basis.\n",
      "Assistant: - Revenue: Gap Inc. reported net sales of $3.28 billion for the quarter ended April 29, 2023, which is down 6% compared to the same quarter last year. \n",
      "- Gross Margin: The reported gross margin was 37.1%. After excluding $4 million in restructuring costs, the adjusted gross margin was 37.2%, an increase of 570 basis points compared to the same quarter last year.\n",
      "- Operating Expenses: The GAAP operating expenses were $1.224 billion or 37.4% of net sales. After adjustments for gain on sale of building and restructuring costs, the non-GAAP operating expenses were $1.2 billion or 36.6% of net sales.\n",
      "- Operating Margin: The GAAP operating margin was -0.3%. After adjustments, the non-GAAP operating margin was 0.5%.\n",
      "- Net Income: The GAAP net income was a loss of $18 million. After adjustments, the non-GAAP net income was $3 million.\n",
      "- Earnings Per Share: The GAAP earnings per share was a loss of $0.05. After adjustments, the non-GAAP earnings per share was $0.01.\n",
      "\n",
      "Quarter-over-Quarter Changes:\n",
      "- Revenue: The net sales decreased by $201 million compared to the same quarter last year.\n",
      "- Gross Margin: The gross margin increased by 570 basis points compared to the same quarter last year.\n",
      "- Operating Expenses: The GAAP operating expenses decreased by $69 million compared to the same quarter last year. After adjustments, the non-GAAP operating expenses decreased by $93 million.\n",
      "- Operating Margin: The GAAP operating margin improved by 196.7 basis points compared to the same quarter last year. After adjustments, the non-GAAP operating margin improved by 80 basis points.\n",
      "- Net Income: The GAAP net income improved by $144 million compared to the same quarter last year. After adjustments, the non-GAAP net income improved by $60 million.\n",
      "- Earnings Per Share: The GAAP earnings per share improved by $0.39 compared to the same quarter last year. After adjustments, the non-GAAP earnings per share improved by $0.16.\n",
      "Reference: Here are the results for the first quarter of fiscal year 2023 for Gap Inc., including both GAAP and non-GAAP numbers, along with the changes from the previous quarter:  Revenue (Net Sales) GAAP: $3.28 billion, down 6% compared to last year.  - Gross Margin GAAP: 37.1% Non-GAAP: 37.1%, increased by 570 basis points compared to the previous year.  - Operating Expenses: The GAAP operating were $1.224 billion, which is 37.4% of net sales.  - Non-GAAP: $1.200 billion, which is 36.6% of net sales. Operating Margin (Op Margin) GAAP: -0.3% Non-GAAP: 0.5% Net Income GAAP: Net loss of $18 million Non-GAAP: Net income of $3 million Earnings Per Share (EPS) GAAP: Loss per share of $0.05 Non-GAAP: Earnings per share of $0.01 These results highlight a mixed financial performance with significant improvements in gross margins on a non-GAAP basis and a reduction in operating expenses as a percentage of net sales, despite a net loss reported on a GAAP basis.\n",
      "ROUGE-1 Score: 0.5837320524163826\n",
      "ROUGE-2 Score: 0.27076922577306517\n",
      "ROUGE-L Score: 0.5837320524163826\n",
      "\n",
      "User: If a municipality introduces a pay-as-you-throw program as part of its EPR strategy charging households $0.05 per pound of collected waste, calculate the cost for a household that generates 30 pounds per week.\n",
      "Please provide the reference answer: The household would have to pay $1.50 per week. To calculate the cost for a household generating 30 pounds of waste per week under a pay-as-you-throw program that charges $0.05 per pound, Weekly Cost = 30   pounds × $ 0.05 = $ 1.50.\n",
      "Assistant: The household would have to pay $1.50 per week. This is calculated by multiplying the amount of waste generated per week (30 pounds) by the cost per pound of collected waste ($0.05).\n",
      "Reference: The household would have to pay $1.50 per week. To calculate the cost for a household generating 30 pounds of waste per week under a pay-as-you-throw program that charges $0.05 per pound, Weekly Cost = 30   pounds × $ 0.05 = $ 1.50.\n",
      "ROUGE-1 Score: 0.44444443954648527\n",
      "ROUGE-2 Score: 0.2894736793351801\n",
      "ROUGE-L Score: 0.4126984078004535\n",
      "\n",
      "User: What's the OP margin for the current quarter?\n",
      "Please provide the reference answer: The adjusted operating margin for the current quarter is 0.5%\n",
      "Assistant: The reported operating margin for the current quarter is negative 0.3%. The adjusted operating margin is 0.5%.\n",
      "Reference: The adjusted operating margin for the current quarter is 0.5%\n",
      "ROUGE-1 Score: 0.8799999950720001\n",
      "ROUGE-2 Score: 0.7407407360768176\n",
      "ROUGE-L Score: 0.8799999950720001\n",
      "\n",
      "User: Identify potential risks associated with EPR implementation, such as regulatory changes, market volatility, and technological disruptions. Develop a risk assessment framework that assigns probabilities and impacts to each identified risk factor. Propose risk mitigation strategies for minimizing the adverse effects of these risks on EPR programs and stakeholder interests.\n",
      "Please provide the reference answer: Risk Assessment Framework for Extended Producer Responsibility (EPR) Implementation Implementing an Extended Producer Responsibility (EPR) program can face multiple risks. Below is a framework outlining potential risks, assigning probabilities and impacts, and proposing mitigation strategies.  1. Regulatory Changes Probability: High Impact: High Description: EPR programs are highly dependent on local, regional, and national regulations. Changes in environmental policies or recycling mandates can significantly alter the operational parameters or financial implications of EPR programs. Mitigation Strategies: Engagement and Advocacy: Regular engagement with policymakers and participation in legislative processes to advocate for stable, favorable regulations. Flexibility in Operations: Design EPR programs to be adaptable to changes in regulations. Have contingency plans that can be activated when laws change. 2. Market Volatility Probability: Medium Impact: High Description: Fluctuations in the prices of raw materials, such as recyclable materials, can impact the cost-effectiveness of EPR programs. Additionally, market demand for recycled materials can be unpredictable. Mitigation Strategies: Diversification: Diversify the sources and types of recyclable materials accepted in the program to spread risk. Contracts and Partnerships: Establish long-term contracts with buyers of recycled materials to stabilize revenue streams. 3. Technological Disruptions Probability: Medium Impact: Medium Description: New technologies can disrupt existing waste management and recycling technologies, potentially rendering current processes obsolete or less efficient. Mitigation Strategies: Investment in Innovation: Invest in research and development to stay at the forefront of recycling technology. Partnerships with Tech Companies: Form strategic partnerships with technology providers to integrate the latest innovations in waste processing and materials recovery. 4. Non-compliance by Stakeholders Probability: Medium Impact: High Description: Non-compliance by producers, consumers, or waste handlers can undermine the effectiveness of EPR programs. Mitigation Strategies: Education and Awareness Programs: Regularly conduct educational campaigns to highlight the benefits and importance of compliance. Monitoring and Enforcement: Implement robust monitoring systems and enforce penalties for non-compliance to ensure adherence to program requirements. 5. Public Perception and Participation Probability: Low Impact: High Description: Public resistance or lack of participation can severely limit the effectiveness of EPR programs. Mitigation Strategies: Community Engagement: Engage community leaders and influencers in promoting EPR programs. Incentives: Offer incentives for participation, such as discounts or public recognition. 6. Environmental Impact Misjudgments Probability: Low Impact: Very High Description: Incorrect assumptions about the environmental impact of EPR strategies can lead to ineffective or even harmful outcomes. Mitigation Strategies: Expert Consultations: Work with environmental experts to assess program impacts accurately. Pilot Programs: Implement pilot programs to test the environmental impact assumptions before full-scale deployment. Conclusion This framework provides a structured approach to identifying, evaluating, and mitigating risks in EPR programs. By understanding and preparing for these risks, municipalities and other stakeholders can better position their EPR initiatives for success, aligning operational goals with environmental and regulatory expectations.\n",
      "Assistant: The text does not provide information on the potential risks associated with the implementation of Extended Producer Responsibility (EPR), including regulatory changes, market volatility, and technological disruptions. It also does not provide information on a risk assessment framework that assigns probabilities and impacts to each identified risk factor, or propose risk mitigation strategies to minimize the adverse effects of these risks on EPR programs and stakeholder interests.\n",
      "Reference: Risk Assessment Framework for Extended Producer Responsibility (EPR) Implementation Implementing an Extended Producer Responsibility (EPR) program can face multiple risks. Below is a framework outlining potential risks, assigning probabilities and impacts, and proposing mitigation strategies.  1. Regulatory Changes Probability: High Impact: High Description: EPR programs are highly dependent on local, regional, and national regulations. Changes in environmental policies or recycling mandates can significantly alter the operational parameters or financial implications of EPR programs. Mitigation Strategies: Engagement and Advocacy: Regular engagement with policymakers and participation in legislative processes to advocate for stable, favorable regulations. Flexibility in Operations: Design EPR programs to be adaptable to changes in regulations. Have contingency plans that can be activated when laws change. 2. Market Volatility Probability: Medium Impact: High Description: Fluctuations in the prices of raw materials, such as recyclable materials, can impact the cost-effectiveness of EPR programs. Additionally, market demand for recycled materials can be unpredictable. Mitigation Strategies: Diversification: Diversify the sources and types of recyclable materials accepted in the program to spread risk. Contracts and Partnerships: Establish long-term contracts with buyers of recycled materials to stabilize revenue streams. 3. Technological Disruptions Probability: Medium Impact: Medium Description: New technologies can disrupt existing waste management and recycling technologies, potentially rendering current processes obsolete or less efficient. Mitigation Strategies: Investment in Innovation: Invest in research and development to stay at the forefront of recycling technology. Partnerships with Tech Companies: Form strategic partnerships with technology providers to integrate the latest innovations in waste processing and materials recovery. 4. Non-compliance by Stakeholders Probability: Medium Impact: High Description: Non-compliance by producers, consumers, or waste handlers can undermine the effectiveness of EPR programs. Mitigation Strategies: Education and Awareness Programs: Regularly conduct educational campaigns to highlight the benefits and importance of compliance. Monitoring and Enforcement: Implement robust monitoring systems and enforce penalties for non-compliance to ensure adherence to program requirements. 5. Public Perception and Participation Probability: Low Impact: High Description: Public resistance or lack of participation can severely limit the effectiveness of EPR programs. Mitigation Strategies: Community Engagement: Engage community leaders and influencers in promoting EPR programs. Incentives: Offer incentives for participation, such as discounts or public recognition. 6. Environmental Impact Misjudgments Probability: Low Impact: Very High Description: Incorrect assumptions about the environmental impact of EPR strategies can lead to ineffective or even harmful outcomes. Mitigation Strategies: Expert Consultations: Work with environmental experts to assess program impacts accurately. Pilot Programs: Implement pilot programs to test the environmental impact assumptions before full-scale deployment. Conclusion This framework provides a structured approach to identifying, evaluating, and mitigating risks in EPR programs. By understanding and preparing for these risks, municipalities and other stakeholders can better position their EPR initiatives for success, aligning operational goals with environmental and regulatory expectations.\n",
      "ROUGE-1 Score: 0.15673980918347896\n",
      "ROUGE-2 Score: 0.021321959326062595\n",
      "ROUGE-L Score: 0.15673980918347896\n",
      "\n",
      "User: What were Gap Inc's net sales for the first quarter of fiscal 2023 and how did they compare to the previous year?\n",
      "Please provide the reference answer: The net sales of Gap Inc.'s for the first quarter of fiscal 2023 were $3.28 billion. This was down 6% compared to the previous year.\n",
      "Assistant: The net sales of Gap Inc. for the first quarter of fiscal year 2023 were $3.28 billion. This was down 6% compared to the net sales of the same quarter in the previous year, which were $3.477 billion.\n",
      "Reference: The net sales of Gap Inc.'s for the first quarter of fiscal 2023 were $3.28 billion. This was down 6% compared to the previous year.\n",
      "ROUGE-1 Score: 0.8888888839163238\n",
      "ROUGE-2 Score: 0.7096774144849116\n",
      "ROUGE-L Score: 0.8888888839163238\n",
      "\n",
      "User: How did merchandise margin change from the previous year, and what were the drivers of this change?\n",
      "Please provide the reference answer: The merchandise margin for Gap Inc. increased by 600 basis points compared to previous year, and by 610 basis points on an adjusted basis. This change was due to lower air freight expense and improved promotional activity in the quarter, partially offset by inflationary cost headwinds.\n",
      "Assistant: The merchandise margin for Gap Inc. increased by 600 basis points compared to the previous year. This increase was due to lower air freight expense and improved promotional activity in the quarter, partially offset by inflationary cost headwinds.\n",
      "Reference: The merchandise margin for Gap Inc. increased by 600 basis points compared to previous year, and by 610 basis points on an adjusted basis. This change was due to lower air freight expense and improved promotional activity in the quarter, partially offset by inflationary cost headwinds.\n",
      "ROUGE-1 Score: 0.8918918869065011\n",
      "ROUGE-2 Score: 0.7654320938027741\n",
      "ROUGE-L Score: 0.8918918869065011\n",
      "\n",
      "User: Did Gap Inc. have an operating profit or loss, and if so, what was the amount?\n",
      "Please provide the reference answer: Gap Inc. reported an operating loss of $10 million in the first quarter of fiscal 2023.\n",
      "Assistant: Gap Inc. reported an operating loss for the first quarter of fiscal 2023. The amount of the loss was $10 million.\n",
      "Reference: Gap Inc. reported an operating loss of $10 million in the first quarter of fiscal 2023.\n",
      "ROUGE-1 Score: 0.8484848435261708\n",
      "ROUGE-2 Score: 0.6285714236734695\n",
      "ROUGE-L Score: 0.8484848435261708\n",
      "\n",
      "User: What were the key results from each of Gap Inc.'s brands (Old Navy, Gap, Banana Republic, and Athleta)?\n",
      "Please provide the reference answer: Here are the key results from each of Gap Inc.'s brands for the first quarter of fiscal 2023:   - Old Navy Global: Net Sales is $1.8 billion, down 1% compared to last year. - Banana Republic: Net Sales is $432 million, down 10% compared to last year on top of a 24% growth in the previous year. Comparable Sales: Down 8%. Performance Drivers: The sales were impacted as the brand lapped outsized growth from the previous year, driven by a shift in consumer preferences.  - Athleta: Net Sales is $321 million, down 11% compared to last year.\n",
      "Assistant: The key results for each of Gap Inc.'s brands for the first quarter of fiscal year 2023 are as follows:\n",
      "\n",
      "- Old Navy Global: Net sales of $1.828 billion, down from $1.673 billion in the same period last year.\n",
      "- Gap Global: Net sales of $692 million, down from $791 million in the same period last year.\n",
      "- Banana Republic Global: Net sales of $432 million, down from $482 million in the same period last year.\n",
      "- Athleta Global: Net sales of $321 million, down from $360 million in the same period last year.\n",
      "Reference: Here are the key results from each of Gap Inc.'s brands for the first quarter of fiscal 2023:   - Old Navy Global: Net Sales is $1.8 billion, down 1% compared to last year. - Banana Republic: Net Sales is $432 million, down 10% compared to last year on top of a 24% growth in the previous year. Comparable Sales: Down 8%. Performance Drivers: The sales were impacted as the brand lapped outsized growth from the previous year, driven by a shift in consumer preferences.  - Athleta: Net Sales is $321 million, down 11% compared to last year.\n",
      "ROUGE-1 Score: 0.5739130386449905\n",
      "ROUGE-2 Score: 0.3221476461258502\n",
      "ROUGE-L Score: 0.5391304299493385\n",
      "\n",
      "User: What is the company's outlook on net sales for the second quarter and the full fiscal year 2023?\n",
      "Please provide the reference answer: Gap Inc. is expecting that its second quarter net sales could decrease in the mid to high single-digit range compared to last year’s net sales of $3.86 billion. For the entire fiscal year of 2023, the company anticipates that net sales could decrease in the low to mid-single digit range compared to last year’s net sales of $15.6 billion.\n",
      "Assistant: Gap Inc. is estimating that the second quarter net sales could decrease in the mid to high single-digit range compared to last year’s net sales of $3.86 billion. For the entire fiscal year of 2023, the company anticipates that net sales could decrease in the low to mid-single digit range compared to last year’s net sales of $15.6 billion.\n",
      "Reference: Gap Inc. is expecting that its second quarter net sales could decrease in the mid to high single-digit range compared to last year’s net sales of $3.86 billion. For the entire fiscal year of 2023, the company anticipates that net sales could decrease in the low to mid-single digit range compared to last year’s net sales of $15.6 billion.\n",
      "ROUGE-1 Score: 0.9599999950008888\n",
      "ROUGE-2 Score: 0.9148936120212766\n",
      "ROUGE-L Score: 0.9599999950008888\n",
      "\n",
      "User: How much cash and cash equivalents did Gap, Inc. have at the end of the quarter?\n",
      "Please provide the reference answer: The amount of cash and cash equivalents that Gap, Inc had at the end of the first quarter of fiscal 2023 is a total of 1,170 million.\n",
      "Assistant: The amount of cash and cash equivalents that Gap, Inc. had at the end of the quarter was $1,198 million.\n",
      "Reference: The amount of cash and cash equivalents that Gap, Inc had at the end of the first quarter of fiscal 2023 is a total of 1,170 million.\n",
      "ROUGE-1 Score: 0.7692307643129521\n",
      "ROUGE-2 Score: 0.6666666617876543\n",
      "ROUGE-L Score: 0.7692307643129521\n",
      "\n",
      "User: How does the company expect gross margin to change in Q2 and the full year compared to 2022?\n",
      "Please provide the reference answer: Gap Inc. expects  gross margin improvement for the second quarter and the full fiscal year 2023 compared to 2022. These expectations suggest that Gap Inc. is confident in its ability to continue managing costs effectively and potentially benefiting from operational efficiencies or improved sales compositions.\n",
      "Assistant: The company expects gross margin expansion in both the second quarter and the entire fiscal year 2023 compared to 2022. However, the specific amount or percentage of this expansion is not provided in the context.\n",
      "Reference: Gap Inc. expects  gross margin improvement for the second quarter and the full fiscal year 2023 compared to 2022. These expectations suggest that Gap Inc. is confident in its ability to continue managing costs effectively and potentially benefiting from operational efficiencies or improved sales compositions.\n",
      "ROUGE-1 Score: 0.45714285224489803\n",
      "ROUGE-2 Score: 0.28571428078259414\n",
      "ROUGE-L Score: 0.4285714236734694\n",
      "\n",
      "User: Did Gap Inc. pay a dividend in the first quarter, and what is their dividend strategy going forward?\n",
      "Please provide the reference answer: Yes, Gap Inc. did pay a dividend in the first quarter of fiscal 2023. The dividend paid was $0.15 per share, totaling $55 million. Additionally, the Board of Directors approved a dividend of $0.15 per share for the second quarter of fiscal 2023.\n",
      "Assistant: The text does not provide information on whether Gap Inc. distributed a dividend in the first quarter of fiscal year 2023 or their strategy for future dividend payments.\n",
      "Reference: Yes, Gap Inc. did pay a dividend in the first quarter of fiscal 2023. The dividend paid was $0.15 per share, totaling $55 million. Additionally, the Board of Directors approved a dividend of $0.15 per share for the second quarter of fiscal 2023.\n",
      "ROUGE-1 Score: 0.44827585709274675\n",
      "ROUGE-2 Score: 0.2461538412970415\n",
      "ROUGE-L Score: 0.4137930984720571\n",
      "\n",
      "User: What are the key actions Gap Inc. is taking to execute its plan?\n",
      "Please provide the reference answer: Gap Inc. is taking several key actions to drive its strategic plan and improve business performance, as outlined in the first quarter fiscal 2023 report. Here are the main actions highlighted:  Strategic Store Closures: Gap Inc. is continuing to optimize its store footprint by closing underperforming stores, primarily in North America. This is part of a broader strategy to enhance the efficiency of its operations and focus on more profitable locations. Investment in Digital and Omni-channel Initiatives: The company is focusing on enhancing its digital capabilities and integrating omni-channel shopping experiences. This includes improving its online platforms and ensuring a seamless interaction between digital and physical stores to meet evolving consumer shopping preferences. Cost Management and Operational Efficiency: Gap Inc. is implementing measures to reduce costs and improve operational efficiency. This includes managing inventory more effectively, optimizing its supply chain, and reducing overhead costs through various efficiency initiatives. Product and Marketing Innovations: The company is working on refreshing its product lines and enhancing marketing strategies to better align with consumer trends and preferences. This includes focusing on high-performing categories and improving product acceptance. Enhancing Brand Strength: Gap Inc. is investing in its brand portfolio to strengthen brand equity and attract a broader customer base. This involves not only maintaining the core brand values but also adapting to changing consumer tastes and expectations. Employee and Organizational Changes: The company is also focusing on optimizing its organizational structure and ensuring it has the right talent in place to execute its strategy effectively. This includes strategic hiring and possibly restructuring parts of the organization to align with its long-term goals. These actions are aimed at stabilizing and growing the business by improving the company's financial health, enhancing customer engagement, and adapting to the rapidly changing retail landscape.\n",
      "Assistant: The main steps that Gap Inc. is implementing to carry out its strategy include identifying, negotiating, and securing new store locations and renewing, modifying, or terminating leases for existing store locations effectively. They are also focusing on defending various proceedings, lawsuits, disputes, and claims, and complying with applicable laws and regulations. Gap Inc. is also working on satisfying regulations and market expectations related to their ESG initiatives. They are managing their level of indebtedness to ensure it does not impact their ability to operate and expand their business. They are also adopting new accounting pronouncements that will impact future results. Additionally, they are focusing on driving critical change within the organization, improving their business including share gains at Old Navy and Gap Brand, reducing inventory, and strengthening their balance sheet. They are also embracing a new operating model and organizational structure, and renewing their focus on their customer.\n",
      "Reference: Gap Inc. is taking several key actions to drive its strategic plan and improve business performance, as outlined in the first quarter fiscal 2023 report. Here are the main actions highlighted:  Strategic Store Closures: Gap Inc. is continuing to optimize its store footprint by closing underperforming stores, primarily in North America. This is part of a broader strategy to enhance the efficiency of its operations and focus on more profitable locations. Investment in Digital and Omni-channel Initiatives: The company is focusing on enhancing its digital capabilities and integrating omni-channel shopping experiences. This includes improving its online platforms and ensuring a seamless interaction between digital and physical stores to meet evolving consumer shopping preferences. Cost Management and Operational Efficiency: Gap Inc. is implementing measures to reduce costs and improve operational efficiency. This includes managing inventory more effectively, optimizing its supply chain, and reducing overhead costs through various efficiency initiatives. Product and Marketing Innovations: The company is working on refreshing its product lines and enhancing marketing strategies to better align with consumer trends and preferences. This includes focusing on high-performing categories and improving product acceptance. Enhancing Brand Strength: Gap Inc. is investing in its brand portfolio to strengthen brand equity and attract a broader customer base. This involves not only maintaining the core brand values but also adapting to changing consumer tastes and expectations. Employee and Organizational Changes: The company is also focusing on optimizing its organizational structure and ensuring it has the right talent in place to execute its strategy effectively. This includes strategic hiring and possibly restructuring parts of the organization to align with its long-term goals. These actions are aimed at stabilizing and growing the business by improving the company's financial health, enhancing customer engagement, and adapting to the rapidly changing retail landscape.\n",
      "ROUGE-1 Score: 0.252707576574698\n",
      "ROUGE-2 Score: 0.04400977549584278\n",
      "ROUGE-L Score: 0.2454873599681998\n",
      "\n",
      "User: exit\n"
     ]
    }
   ],
   "source": [
    "# Interactive conversation loop\n",
    "from rouge import Rouge\n",
    "rouge = Rouge()\n",
    "\n",
    "while True:\n",
    "    query = input(\"User: \")\n",
    "    if query.lower() == 'exit':\n",
    "        break\n",
    "\n",
    "    result = conversation_chain({\"question\": query})\n",
    "    generated_answer = result[\"answer\"]\n",
    "\n",
    "    reference_answer = input(\"Please provide the reference answer: \")\n",
    "\n",
    "    # Calculate ROUGE scores\n",
    "    scores = rouge.get_scores(generated_answer, reference_answer)\n",
    "    rouge_1 = scores[0]['rouge-1']['f']\n",
    "    rouge_2 = scores[0]['rouge-2']['f']  # Include ROUGE-2 score\n",
    "    rouge_l = scores[0]['rouge-l']['f']  # Include ROUGE-L score\n",
    "\n",
    "    print(f\"Assistant: {generated_answer}\")\n",
    "    print(f\"Reference: {reference_answer}\")\n",
    "    print(f\"ROUGE-1 Score: {rouge_1}\")\n",
    "    print(f\"ROUGE-2 Score: {rouge_2}\")  # Print ROUGE-2 score\n",
    "    print(f\"ROUGE-L Score: {rouge_l}\")  # Print ROUGE-L score\n",
    "    print()\n"
   ]
  },
  {
   "cell_type": "code",
   "execution_count": null,
   "metadata": {
    "id": "9ZGTU-7xrE4d"
   },
   "outputs": [],
   "source": []
  },
  {
   "cell_type": "code",
   "execution_count": null,
   "metadata": {
    "id": "RFc1GRU7rE-w"
   },
   "outputs": [],
   "source": []
  }
 ],
 "metadata": {
  "accelerator": "GPU",
  "colab": {
   "gpuType": "T4",
   "machine_shape": "hm",
   "provenance": []
  },
  "kernelspec": {
   "display_name": "Python 3 (ipykernel)",
   "language": "python",
   "name": "python3"
  },
  "language_info": {
   "codemirror_mode": {
    "name": "ipython",
    "version": 3
   },
   "file_extension": ".py",
   "mimetype": "text/x-python",
   "name": "python",
   "nbconvert_exporter": "python",
   "pygments_lexer": "ipython3",
   "version": "3.9.16"
  }
 },
 "nbformat": 4,
 "nbformat_minor": 1
}
